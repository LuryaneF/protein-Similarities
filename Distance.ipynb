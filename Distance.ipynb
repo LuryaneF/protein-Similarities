{
 "cells": [
  {
   "cell_type": "code",
   "execution_count": 1,
   "metadata": {
    "tags": []
   },
   "outputs": [],
   "source": [
    "#Calculates the distance of a fixed automata in relation to other automata\n",
    "import matplotlib.pyplot as plt\n",
    "import numpy as np\n",
    "from scipy.integrate import odeint\n",
    "import pylab as pl\n",
    "import math\n",
    "import matplotlib.ticker as tck\n",
    "import time "
   ]
  },
  {
   "cell_type": "code",
   "execution_count": 2,
   "metadata": {
    "tags": []
   },
   "outputs": [],
   "source": [
    "#Input data\n",
    "\n",
    "L=2000\n",
    "C=1184"
   ]
  },
  {
   "cell_type": "code",
   "execution_count": 3,
   "metadata": {
    "tags": []
   },
   "outputs": [
    {
     "name": "stdout",
     "output_type": "stream",
     "text": [
      " O cṕdigo demorou 2.7864367961883545 segundos\n"
     ]
    }
   ],
   "source": [
    "\n",
    "a=0\n",
    "s=int(a)\n",
    "fname='automato_1.txt' #protein automaton 1\n",
    "A=np.loadtxt(fname)\n",
    "\n",
    "for i in range(1,51): #the number 51 represents the number of automata (proteins) that we are going to compare\n",
    "    tempo_inicial= time.time() # calculates time in seconds\n",
    "    fname_S='automato_{i}.txt' #protein automaton i\n",
    "    anterior_S=np.loadtxt(fname_S.format(i=i))\n",
    "    b=0\n",
    "    soma=int(b)\n",
    "    soma=0\n",
    "    D=[]\n",
    "    for l in range(L):\n",
    "        for m in range(C):\n",
    "            if A[l][m]==anterior_S[l][m]:\n",
    "                s=0\n",
    "            else:\n",
    "                s=1\n",
    "            soma=soma+s\n",
    "        D.append(soma) \n",
    "        soma=0\n",
    "        \n",
    "    \n",
    "    fname_S = \"DistanciaHamming_{i}.txt\"\n",
    "    atual_S=np.savetxt(fname_S.format(i=i),D,fmt = '% .0f', newline='\\n')\n",
    "tempo_final= time.time() # in seconds\n",
    "#Print of the time it took to run the specific part of the code\n",
    "print(f\"The code took a while {tempo_final - tempo_inicial} seconds\")"
   ]
  },
  {
   "cell_type": "code",
   "execution_count": 4,
   "metadata": {},
   "outputs": [],
   "source": [
    "#Saves the first column of the similarity matrix\n",
    "D=[]\n",
    "for i in range(1,51):\n",
    "    fname_S='DistanciaHamming_{i}.txt'\n",
    "    a=np.loadtxt(fname_S.format(i=i))\n",
    "    D.append(a[1999])\n",
    "    \n",
    "    \n",
    "atual_S=np.savetxt(\"Coluna1MatrizDistancia.txt\",D,fmt = '% .0f', newline='\\n')"
   ]
  },
  {
   "cell_type": "code",
   "execution_count": null,
   "metadata": {},
   "outputs": [],
   "source": []
  }
 ],
 "metadata": {
  "kernelspec": {
   "display_name": "Python 3 (ipykernel)",
   "language": "python",
   "name": "python3"
  },
  "language_info": {
   "codemirror_mode": {
    "name": "ipython",
    "version": 3
   },
   "file_extension": ".py",
   "mimetype": "text/x-python",
   "name": "python",
   "nbconvert_exporter": "python",
   "pygments_lexer": "ipython3",
   "version": "3.11.4"
  }
 },
 "nbformat": 4,
 "nbformat_minor": 4
}
